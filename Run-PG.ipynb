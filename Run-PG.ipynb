{
 "cells": [
  {
   "cell_type": "code",
   "execution_count": null,
   "metadata": {},
   "outputs": [],
   "source": [
    "%load_ext autoreload\n",
    "%autoreload 2\n",
    "import run_pg\n",
    "\n",
    "import matplotlib.pyplot as plt\n",
    "import seaborn as sns\n",
    "import numpy as np\n",
    "from tqdm import tqdm"
   ]
  },
  {
   "cell_type": "code",
   "execution_count": null,
   "metadata": {},
   "outputs": [],
   "source": [
    "rng = np.random.RandomState(1234)"
   ]
  },
  {
   "cell_type": "code",
   "execution_count": null,
   "metadata": {},
   "outputs": [],
   "source": [
    "from collections import defaultdict"
   ]
  },
  {
   "cell_type": "code",
   "execution_count": null,
   "metadata": {},
   "outputs": [],
   "source": [
    "all_episode_returns = defaultdict(list)"
   ]
  },
  {
   "cell_type": "code",
   "execution_count": null,
   "metadata": {},
   "outputs": [],
   "source": [
    "# all_results = []"
   ]
  },
  {
   "cell_type": "code",
   "execution_count": null,
   "metadata": {},
   "outputs": [],
   "source": [
    "param_ranges = {\n",
    "    'learning_rate': 10 ** np.linspace(-1.0, -0., num=1000),\n",
    "    'gamma': np.linspace(0.7, 0.95, num=1000)\n",
    "}"
   ]
  },
  {
   "cell_type": "code",
   "execution_count": null,
   "metadata": {},
   "outputs": [],
   "source": [
    "def sample_params(param_ranges):\n",
    "    return {key: rng.choice(range) \n",
    "            for key, range in param_ranges.items()}"
   ]
  },
  {
   "cell_type": "code",
   "execution_count": null,
   "metadata": {
    "scrolled": true
   },
   "outputs": [],
   "source": [
    "obs_horizons = [1, 2, 3]\n",
    "for i in tqdm(range(5*len(obs_horizons))):\n",
    "    obs_horizon = obs_horizons[i % len(obs_horizons)]\n",
    "    \n",
    "    params = sample_params(param_ranges)\n",
    "    \n",
    "    results = run_pg.run(10000, \n",
    "                         obs_horizon=obs_horizon, \n",
    "                         learning_rate=params['learning_rate'], # 0.03\n",
    "                         gamma=params['gamma'])                 # 0.7\n",
    "    all_episode_returns[obs_horizon].append(\n",
    "        {**results,\n",
    "          **params})\n",
    "#     all_results.append(results)"
   ]
  },
  {
   "cell_type": "code",
   "execution_count": null,
   "metadata": {},
   "outputs": [],
   "source": [
    "def jsonify_lists_dicts_nparrays(xs):\n",
    "    if isinstance(xs, list):\n",
    "        return [jsonify_lists_dicts_nparrays(x) for x in xs]\n",
    "    elif isinstance(xs, dict):\n",
    "        return {key: jsonify_lists_dicts_nparrays(x) for key, x in xs.items()}\n",
    "    elif isinstance(xs, np.ndarray):\n",
    "        return xs.tolist()\n",
    "    else:\n",
    "        return xs"
   ]
  },
  {
   "cell_type": "code",
   "execution_count": null,
   "metadata": {},
   "outputs": [],
   "source": [
    "import json\n",
    "from datetime import datetime\n",
    "with open('results.json', 'w') as f:\n",
    "    json.dump(jsonify_lists_dicts_nparrays(results), f)"
   ]
  },
  {
   "cell_type": "code",
   "execution_count": null,
   "metadata": {
    "scrolled": true
   },
   "outputs": [],
   "source": [
    "fig, axs = plt.subplots(ncols=4, figsize=(12, 4), sharex=True, sharey=True)\n",
    "for i in range(4):\n",
    "    axs[i].imshow(results['model_weights'][0][:, i].reshape(-1, 5))\n",
    "plt.show()"
   ]
  },
  {
   "cell_type": "code",
   "execution_count": null,
   "metadata": {},
   "outputs": [],
   "source": [
    "# np.mean(all_episode_returns[], axis=1)"
   ]
  },
  {
   "cell_type": "code",
   "execution_count": null,
   "metadata": {},
   "outputs": [],
   "source": [
    "import pandas as pd"
   ]
  },
  {
   "cell_type": "code",
   "execution_count": null,
   "metadata": {},
   "outputs": [],
   "source": [
    "%matplotlib inline"
   ]
  },
  {
   "cell_type": "code",
   "execution_count": null,
   "metadata": {},
   "outputs": [],
   "source": [
    "def plot_episode_returns(ax, episode_returns, **kwargs):\n",
    "    pd.Series(episode_returns).rolling(1000, center=True).mean().plot(ax=ax, **kwargs)\n",
    "    ax.set_xlabel('Episode')\n",
    "    ax.set_ylabel('Return')\n",
    "    \n",
    "#     pd.Series(episode_returns).rolling(500, center=True).quantile(.05).plot(ax=ax)\n",
    "#     pd.Series(episode_returns).rolling(500, center=True).quantile(.95).plot(ax=ax)"
   ]
  },
  {
   "cell_type": "code",
   "execution_count": null,
   "metadata": {},
   "outputs": [],
   "source": [
    "def subselect_results(results, fraction, ):\n",
    "    n = int(round(fraction * len(results)))\n",
    "    return sorted(results, key=lambda result: -np.sum(result[-10000:]))[:n]"
   ]
  },
  {
   "cell_type": "code",
   "execution_count": null,
   "metadata": {},
   "outputs": [],
   "source": [
    "obs_horizons = [1, 3]\n",
    "colors_by_obsho = {\n",
    "    1: 'orange',\n",
    "    2: 'red',\n",
    "    3: 'darkred'\n",
    "}\n",
    "\n",
    "# fig, ax = plt.subplots(figsize=(7,5))\n",
    "# for obsho in obs_horizons:\n",
    "#     for results in all_episode_returns[obsho]:\n",
    "#         plot_episode_returns(ax, results['episode_returns'], color=colors_by_obsho[obsho], alpha=0.2)\n",
    "# plt.show()    \n",
    "    \n",
    "fig, ax = plt.subplots(figsize=(7,5))\n",
    "for obsho in obs_horizons:\n",
    "    plot_episode_returns(ax, np.mean([results['episode_returns'] \n",
    "                                      for results in all_episode_returns[obsho]], axis=0),\n",
    "#                             color=colors_by_obsho[obsho],\n",
    "                            label=f'horizon {obsho}')\n",
    "ax.legend(loc=0)\n",
    "plt.show()\n",
    "\n",
    "\n",
    "fig, ax = plt.subplots(figsize=(7,5))\n",
    "for obsho in obs_horizons:\n",
    "    plot_episode_returns(ax, np.mean(subselect_results([results['episode_returns'] \n",
    "                                                         for results in all_episode_returns[obsho]], 0.1), \n",
    "                                      axis=0),\n",
    "                        color=colors_by_obsho[obsho]\n",
    "                        ) \n",
    "plt.show()\n",
    "\n",
    "                         \n",
    "#                          color=colors_by_obsho[obsho])\n",
    "#     plot_episode_returns(ax, np.max(all_episode_returns[obsho], axis=0), \n",
    "#                          color=colors_by_obsho[obsho])\n",
    "\n",
    "# plot_episode_returns(episode_returns_old)"
   ]
  },
  {
   "cell_type": "code",
   "execution_count": null,
   "metadata": {},
   "outputs": [],
   "source": []
  },
  {
   "cell_type": "code",
   "execution_count": null,
   "metadata": {},
   "outputs": [],
   "source": [
    "for obsho in obs_horizons:\n",
    "    results = all_episode_returns[obsho]\n",
    "    fig, axs = plt.subplots(ncols=2)\n",
    "    axs[0].scatter(\n",
    "        [result['learning_rate'] for result in results],\n",
    "        [np.mean(result['episode_returns']) for result in results]\n",
    "    )\n",
    "    axs[1].scatter(\n",
    "        [result['gamma'] for result in results],\n",
    "        [np.mean(result['episode_returns']) for result in results]\n",
    "    )\n",
    "\n",
    "    plt.show()\n",
    "    "
   ]
  },
  {
   "cell_type": "code",
   "execution_count": null,
   "metadata": {},
   "outputs": [],
   "source": [
    "os.system('say We are done now. Congratulations')"
   ]
  },
  {
   "cell_type": "code",
   "execution_count": null,
   "metadata": {},
   "outputs": [],
   "source": []
  },
  {
   "cell_type": "code",
   "execution_count": null,
   "metadata": {},
   "outputs": [],
   "source": [
    "import pg"
   ]
  },
  {
   "cell_type": "code",
   "execution_count": null,
   "metadata": {},
   "outputs": [],
   "source": [
    "import food_search_env"
   ]
  },
  {
   "cell_type": "code",
   "execution_count": null,
   "metadata": {
    "scrolled": false
   },
   "outputs": [],
   "source": [
    "for obsho in obs_horizons:\n",
    "    print('obsho', obsho)\n",
    "    env = food_search_env.FoodSearch(obs_horizon=obsho, n_noise_channels=2)\n",
    "    state_size = np.product(env.observation_space.shape)\n",
    "    action_size = env.action_space.n\n",
    "    agent = pg.PGAgent(state_size, action_size, 0.0, 0.9)\n",
    "    \n",
    "    best_weights = max(all_episode_returns[obsho], key=lambda result: np.sum(result['episode_returns']))['model_weights']\n",
    "    agent.model.set_weights(best_weights)\n",
    "    for _ in range(5):\n",
    "        food_search_env.render_video(env, agent.get_policy(), name_prefix=f'obsho{obsho}')\n",
    "    "
   ]
  },
  {
   "cell_type": "code",
   "execution_count": null,
   "metadata": {},
   "outputs": [],
   "source": []
  },
  {
   "cell_type": "code",
   "execution_count": null,
   "metadata": {},
   "outputs": [],
   "source": []
  },
  {
   "cell_type": "code",
   "execution_count": null,
   "metadata": {},
   "outputs": [],
   "source": []
  }
 ],
 "metadata": {
  "kernelspec": {
   "display_name": "Python (adaptive-window-agent-env)",
   "language": "python",
   "name": "adaptive-window-agent-env"
  },
  "language_info": {
   "codemirror_mode": {
    "name": "ipython",
    "version": 3
   },
   "file_extension": ".py",
   "mimetype": "text/x-python",
   "name": "python",
   "nbconvert_exporter": "python",
   "pygments_lexer": "ipython3",
   "version": "3.6.2"
  }
 },
 "nbformat": 4,
 "nbformat_minor": 2
}
